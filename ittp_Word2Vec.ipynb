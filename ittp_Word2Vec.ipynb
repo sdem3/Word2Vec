{
  "cells": [
    {
      "cell_type": "code",
      "execution_count": 1,
      "metadata": {
        "colab": {
          "base_uri": "https://localhost:8080/"
        },
        "id": "ekCEepxoabz7",
        "outputId": "622acc0d-fd19-4292-9257-ec3fea15b930"
      },
      "outputs": [
        {
          "output_type": "stream",
          "name": "stdout",
          "text": [
            "Collecting torchinfo\n",
            "  Downloading torchinfo-1.8.0-py3-none-any.whl (23 kB)\n",
            "Installing collected packages: torchinfo\n",
            "Successfully installed torchinfo-1.8.0\n"
          ]
        }
      ],
      "source": [
        "pip install torchinfo"
      ]
    },
    {
      "cell_type": "code",
      "execution_count": 2,
      "metadata": {
        "colab": {
          "base_uri": "https://localhost:8080/"
        },
        "id": "FEzo2dYmssn4",
        "outputId": "b94bd9ea-1eed-4d3b-e130-fb78c20662ae"
      },
      "outputs": [
        {
          "output_type": "stream",
          "name": "stderr",
          "text": [
            "[nltk_data] Downloading package stopwords to /root/nltk_data...\n",
            "[nltk_data]   Unzipping corpora/stopwords.zip.\n",
            "[nltk_data] Downloading package punkt to /root/nltk_data...\n",
            "[nltk_data]   Unzipping tokenizers/punkt.zip.\n"
          ]
        },
        {
          "output_type": "stream",
          "name": "stdout",
          "text": [
            "torchtext version: <module 'torchtext.version' from '/usr/local/lib/python3.10/dist-packages/torchtext/version.py'>\n"
          ]
        }
      ],
      "source": [
        "import numpy as np\n",
        "import matplotlib.pyplot as plt\n",
        "import matplotlib\n",
        "import seaborn as sns\n",
        "import time\n",
        "import random\n",
        "from random import sample\n",
        "\n",
        "from torchinfo import summary\n",
        "import torch\n",
        "import torch.nn as nn\n",
        "from torch import optim\n",
        "import torch.nn.functional as F\n",
        "from torch.utils.data import DataLoader, Dataset\n",
        "from torch.nn.utils.rnn import pad_sequence\n",
        "\n",
        "from sklearn.model_selection import train_test_split\n",
        "from collections import Counter, OrderedDict\n",
        "from IPython.display import clear_output\n",
        "\n",
        "import torchtext\n",
        "from torchtext import data, datasets\n",
        "from torchtext.data.utils import get_tokenizer\n",
        "from torchtext.data.functional import to_map_style_dataset\n",
        "\n",
        "import nltk\n",
        "nltk.download('stopwords')\n",
        "nltk.download('punkt')\n",
        "\n",
        "from string import punctuation\n",
        "from nltk.stem.snowball import SnowballStemmer\n",
        "from nltk.corpus import stopwords\n",
        "from nltk.tokenize import word_tokenize\n",
        "\n",
        "sns.set(palette=\"Set2\")\n",
        "sns.set_style(\"whitegrid\")\n",
        "\n",
        "# Загрузим необходимые датасеты nltk\n",
        "\n",
        "\n",
        "print(f\"torchtext version: {torchtext.version}\")\n",
        "\n",
        "device = (\n",
        "    \"mps\"\n",
        "    if torch.backends.mps.is_available()\n",
        "    else \"cuda\" if torch.cuda.is_available() else \"cpu\"\n",
        ")"
      ]
    },
    {
      "cell_type": "code",
      "execution_count": 3,
      "metadata": {
        "id": "f6e8yRJWs7ck"
      },
      "outputs": [],
      "source": [
        "import re\n",
        "import codecs\n",
        "from collections import Counter\n",
        "\n",
        "def preprocess_text(text):\n",
        "    text = re.sub('[^a-zA-Zа-яА-Я1-9]+', ' ', text)\n",
        "    text = re.sub('[a-zA-z]', ' ', text)\n",
        "    text = re.sub('\\d+', ' ', text)\n",
        "    text = re.sub(' +', ' ', text)\n",
        "\n",
        "    return text.strip()\n",
        "\n",
        "\n",
        "def prepare_for_w2v(filename_from, filename_to, lang):\n",
        "    raw_text = codecs.open(filename_from, \"r\").read()\n",
        "    with open(filename_to, 'w', encoding='utf-8') as f:\n",
        "        for sentence in nltk.sent_tokenize(raw_text, lang):\n",
        "            print(preprocess_text(sentence.lower()), file=f)\n",
        "\n",
        "def remove_rare(tokens, min_entry = 10):\n",
        "  counts = Counter(tokens)\n",
        "  filtred_words = set([token for token, count in counts.items() if count > min_entry])\n",
        "  tokens = [token for token in tokens if token in filtred_words]\n",
        "  return tokens\n",
        "\n",
        "def prepare_txt(input_filename, lang):\n",
        "  text = preprocess_text(codecs.open(input_filename, 'r').read())\n",
        "  tokens = word_tokenize(text)\n",
        "\n",
        "  stop_words = set(stopwords.words(lang))\n",
        "  stemmer = SnowballStemmer(lang)\n",
        "\n",
        "  tokens =  [word for word in tokens if word not in stop_words]\n",
        "  prepared_words = remove_rare([stemmer.stem(word) for word in tokens])\n",
        "\n",
        "  return prepared_words"
      ]
    },
    {
      "cell_type": "code",
      "execution_count": 4,
      "metadata": {
        "id": "hDdR7BxawXA0"
      },
      "outputs": [],
      "source": [
        "words = prepare_txt('/content/WarAndPeace.txt', 'russian')"
      ]
    },
    {
      "cell_type": "code",
      "execution_count": 5,
      "metadata": {
        "id": "3f2pSYHVBJMm",
        "colab": {
          "base_uri": "https://localhost:8080/"
        },
        "outputId": "452fd572-bff6-4cd1-8df0-f1c372ea7b4b"
      },
      "outputs": [
        {
          "output_type": "execute_result",
          "data": {
            "text/plain": [
             
             
             
              " 'выс',\n",
              " 'беспреста',\n",
              " 'подума',\n",
              " 'чрезвычайн',\n",
              " 'неб',\n",
              " 'и',\n",
              " 'эт',\n",
              " 'подума',\n",
              " 'ядущ',\n",
              " ...]"
            ]
          },
          "metadata": {},
          "execution_count": 5
        }
      ],
      "source": [
        "words"
      ]
    },
    {
      "cell_type": "code",
      "execution_count": 6,
      "metadata": {
        "id": "VAT-Z0BW7e4x"
      },
      "outputs": [],
      "source": [
        "info_words = Counter(words)"
      ]
    },
    {
      "cell_type": "code",
      "execution_count": 7,
      "metadata": {
        "id": "a-AyTQ3l7oNH",
        "colab": {
          "base_uri": "https://localhost:8080/"
        },
        "outputId": "46963000-2c01-4f10-f9ef-231e78a5ab23"
      },
      "outputs": [
        {
          "output_type": "stream",
          "name": "stdout",
          "text": [
            "[('сказа', 4911), ('котор', 3655), ('эт', 3365), ('сво', 2739), ('он', 2461), ('пьер', 2160), ('государ', 2022), ('е', 1668), ('знач', 1611), ('вс', 1556)]\n"
          ]
        }
      ],
      "source": [
        "print(info_words.most_common(10))"
      ]
    },
    {
      "cell_type": "code",
      "execution_count": 8,
      "metadata": {
        "id": "pKDwaJVcGGG2"
      },
      "outputs": [],
      "source": [
        "id2word = dict(enumerate(info_words.keys()))\n",
        "word2id = {token : id for id, token in id2word.items()}"
      ]
    },
    {
      "cell_type": "code",
      "execution_count": 9,
      "metadata": {
        "id": "W4fyKSBGAWLl"
      },
      "outputs": [],
      "source": [
        "def windowizer(text, wsize=3):\n",
        "    \"\"\"\n",
        "    Windowizer function for Word2Vec. Converts sentence to sliding-window\n",
        "    pairs.\n",
        "    \"\"\"\n",
        "    out = []\n",
        "    contexts = dict()\n",
        "    for i, token in enumerate(text):\n",
        "        central = word2id[token]\n",
        "        window = [i+j for j in\n",
        "                  range(-wsize, wsize+1, 1)\n",
        "                  if (i+j>=0) &\n",
        "                     (i+j<len(text)) &\n",
        "                     (j!=0)]\n",
        "\n",
        "        out+=[(central, word2id[text[slide_id]]) for slide_id in window]\n",
        "        contexts[central] = {word2id[text[slide_id]] for slide_id in window}\n",
        "    return out, contexts\n"
      ]
    },
    {
      "cell_type": "code",
      "execution_count": 10,
      "metadata": {
        "id": "kDbYRgBQGmU_"
      },
      "outputs": [],
      "source": [
        "targets, contexts = windowizer(words, wsize = 3)"
      ]
    },
    {
      "cell_type": "code",
      "execution_count": 11,
      "metadata": {
        "id": "daMBfW01J77a"
      },
      "outputs": [],
      "source": [
        "import pandas as pd\n",
        "from sklearn.model_selection import train_test_split\n",
        "\n",
        "X = [central for central, target in targets]\n",
        "y = [target for central, target in targets]\n",
        "\n",
        "dataset = pd.DataFrame({'X': X, 'y':y})\n",
        "train, test = train_test_split(dataset, test_size = 0.2)"
      ]
    },
    {
      "cell_type": "code",
      "execution_count": 12,
      "metadata": {
        "colab": {
          "base_uri": "https://localhost:8080/"
        },
        "id": "njagR5eNAjZo",
        "outputId": "cae1f141-fe63-4f23-f001-7bb8a1adea43"
      },
      "outputs": [
        {
          "output_type": "execute_result",
          "data": {
            "text/plain": [
              "[(921, 70, 0),\n",
              " (506, 1785, 0),\n",
              " (2049, 2326, 0),\n",
              " (1925, 408, 0),\n",
              " (2241, 2762, 0),\n",
              " (1168, 3135, 0),\n",
              " (1269, 1021, 0),\n",
              " (3338, 1702, 0),\n",
              " (997, 244, 0),\n",
              " (2018, 2576, 0)]"
            ]
          },
          "metadata": {},
          "execution_count": 12
        }
      ],
      "source": [
        "ns_count = len(X)\n",
        "ns_targets = []\n",
        "\n",
        "count = 0\n",
        "\n",
        "while count < ns_count:\n",
        "\n",
        "  central_idx, context_idx = np.random.randint(len(id2word), size = 2)\n",
        "  try:\n",
        "    contexts_set = contexts[central_idx]\n",
        "\n",
        "    if (central_idx not in contexts_set):\n",
        "      count+=1\n",
        "      ns_targets.append((central_idx, context_idx, 0))\n",
        "\n",
        "  except:\n",
        "    pass\n",
        "\n",
        "ns_targets[:10]"
      ]
    },
    {
      "cell_type": "code",
      "execution_count": 13,
      "metadata": {
        "id": "GDiipKQpbkJ8",
        "colab": {
          "base_uri": "https://localhost:8080/"
        },
        "outputId": "be650b6d-f024-4dfe-bdd6-2d136bb9f021"
      },
      "outputs": [
        {
          "output_type": "stream",
          "name": "stdout",
          "text": [
            "1501260\n",
            "1501260\n",
            "3002520\n"
          ]
        }
      ],
      "source": [
        "labels = len(X) * [1.0]\n",
        "print(len(labels))\n",
        "\n",
        "print(len(ns_targets))\n",
        "labels += len(ns_targets) * [0.0]\n",
        "print(len(labels))\n",
        "\n",
        "X += [central for central, target, label in ns_targets]\n",
        "y += [target for central, target, label in ns_targets]\n",
        "ns_dataset = pd.DataFrame({'X' : X, 'y' : y, 'label' : labels})\n",
        "ns_train, ns_test = train_test_split(ns_dataset, test_size = 0.2)"
      ]
    },
    {
      "cell_type": "code",
      "execution_count": 14,
      "metadata": {
        "id": "jnhG0Pa7lMNu",
        "colab": {
          "base_uri": "https://localhost:8080/"
        },
        "outputId": "85060f0d-88ae-43c6-fbe0-ffa126f4c5f8"
      },
      "outputs": [
        {
          "output_type": "stream",
          "name": "stdout",
          "text": [
            "1501260.0\n",
            "3002520\n"
          ]
        }
      ],
      "source": [
        "print(sum(labels))\n",
        "print(len(labels))"
      ]
    },
    {
      "cell_type": "code",
      "execution_count": 15,
      "metadata": {
        "id": "-fZPo5AKOdfr"
      },
      "outputs": [],
      "source": [
        "def word_encode(word):\n",
        "  res = np.zeros(len(id2word))\n",
        "  res[word2id[word]] = 1.0\n",
        "  return res\n",
        "\n",
        "def id_encode(vec):\n",
        "  print(vec)\n",
        "  for id, value in enumerate(vec):\n",
        "    if int(value) == 1:\n",
        "      print(id)\n",
        "      return id2word[id]"
      ]
    },
    {
      "cell_type": "code",
      "execution_count": 16,
      "metadata": {
        "id": "l9FE05TXLRv0"
      },
      "outputs": [],
      "source": [
        "from torch.utils.data import Dataset, DataLoader\n",
        "\n",
        "class Word2VecDataset(Dataset):\n",
        "    \"\"\"\n",
        "    Takes a HuggingFace dataset as an input, to be used for a Word2Vec dataloader.\n",
        "    \"\"\"\n",
        "    def __init__(self, dataset, wsize=3):\n",
        "        self.data = dataset\n",
        "\n",
        "    def __len__(self):\n",
        "        return len(self.data)\n",
        "\n",
        "    def __getitem__(self, idx):\n",
        "        X_batch =  self.data['X'].iloc[idx]\n",
        "        y_batch =  self.data['y'].iloc[idx]\n",
        "\n",
        "        return X_batch, y_batch"
      ]
    },
    {
      "cell_type": "code",
      "execution_count": 17,
      "metadata": {
        "id": "o5wuTKSpzFbd",
        "colab": {
          "base_uri": "https://localhost:8080/"
        },
        "outputId": "b71df6e7-8a00-4819-b04f-c6c4143b3250"
      },
      "outputs": [
        {
          "output_type": "execute_result",
          "data": {
            "text/plain": [
              "1.0"
            ]
          },
          "metadata": {},
          "execution_count": 17
        }
      ],
      "source": [
        "ns_dataset['label'][178]"
      ]
    },
    {
      "cell_type": "code",
      "execution_count": 18,
      "metadata": {
        "id": "hsAInG8lAO0-"
      },
      "outputs": [],
      "source": [
        "class NegativeSampleDadtaset(Dataset):\n",
        "    \"\"\"\n",
        "    Takes a HuggingFace dataset as an input, to be used for a Word2Vec dataloader.\n",
        "    \"\"\"\n",
        "    def __init__(self, dataset, wsize=3):\n",
        "        self.data = dataset\n",
        "\n",
        "    def __len__(self):\n",
        "        return len(self.data)\n",
        "\n",
        "    def __getitem__(self, idx):\n",
        "        X_batch =  self.data['X'].iloc[idx]\n",
        "        y_batch =  self.data['y'].iloc[idx]\n",
        "        label = self.data['label'].iloc[idx]\n",
        "        return float(X_batch), float(y_batch), float(label)"
      ]
    },
    {
      "cell_type": "code",
      "execution_count": 19,
      "metadata": {
        "id": "iK2wRQ3fMIXb"
      },
      "outputs": [],
      "source": [
        "dl = DataLoader(Word2VecDataset(train), shuffle = True,\n",
        "                batch_size = 256, drop_last = True)\n",
        "\n",
        "NegativeSampling_dl = DataLoader(NegativeSampleDadtaset(ns_train), shuffle = True,\n",
        "                                 batch_size = 256, drop_last = True, pin_memory=True)"
      ]
    },
    {
      "cell_type": "code",
      "execution_count": 20,
      "metadata": {
        "id": "A-ocRihBiQwt",
        "colab": {
          "base_uri": "https://localhost:8080/"
        },
        "outputId": "3b26fa22-bfb3-4d53-ff26-d5b5a587f37b"
      },
      "outputs": [
        {
          "output_type": "execute_result",
          "data": {
            "text/plain": [
              "X        3.361316e+09\n",
              "y        3.359142e+09\n",
              "label    1.201130e+06\n",
              "dtype: float64"
            ]
          },
          "metadata": {},
          "execution_count": 20
        }
      ],
      "source": [
        "ns_train.sum()"
      ]
    },
    {
      "cell_type": "code",
      "execution_count": 21,
      "metadata": {
        "id": "vLmK5liVSBpn"
      },
      "outputs": [],
      "source": [
        "vocab_size = len(word2id)\n",
        "\n",
        "embedding_size = 128\n",
        "\n",
        "model = nn.Sequential(\n",
        "    nn.Linear(vocab_size, embedding_size, bias = False),\n",
        "    nn.Linear(embedding_size, vocab_size, bias = False),\n",
        "    nn.Softmax()\n",
        ").to(device)\n"
      ]
    },
    {
      "cell_type": "code",
      "execution_count": 22,
      "metadata": {
        "colab": {
          "base_uri": "https://localhost:8080/"
        },
        "id": "9Zh3S4T7bBlV",
        "outputId": "ad60081b-ccfe-47ac-92b1-f1d9f3c2fba9"
      },
      "outputs": [
        {
          "output_type": "execute_result",
          "data": {
            "text/plain": [
              "3606"
            ]
          },
          "metadata": {},
          "execution_count": 22
        }
      ],
      "source": [
        "vocab_size"
      ]
    },
    {
      "cell_type": "code",
      "execution_count": 23,
      "metadata": {
        "colab": {
          "base_uri": "https://localhost:8080/"
        },
        "id": "APcE6m3mldQS",
        "outputId": "30538666-1f07-4e4f-a5ff-dc143d5d0ace"
      },
      "outputs": [
        {
          "output_type": "stream",
          "name": "stderr",
          "text": [
            "/usr/local/lib/python3.10/dist-packages/torch/nn/modules/module.py:1511: UserWarning: Implicit dimension choice for softmax has been deprecated. Change the call to include dim=X as an argument.\n",
            "  return self._call_impl(*args, **kwargs)\n"
          ]
        },
        {
          "output_type": "execute_result",
          "data": {
            "text/plain": [
              "==========================================================================================\n",
              "Layer (type:depth-idx)                   Output Shape              Param #\n",
              "==========================================================================================\n",
              "Sequential                               [1, 3606]                 --\n",
              "├─Linear: 1-1                            [1, 128]                  461,568\n",
              "├─Linear: 1-2                            [1, 3606]                 461,568\n",
              "├─Softmax: 1-3                           [1, 3606]                 --\n",
              "==========================================================================================\n",
              "Total params: 923,136\n",
              "Trainable params: 923,136\n",
              "Non-trainable params: 0\n",
              "Total mult-adds (M): 0.92\n",
              "==========================================================================================\n",
              "Input size (MB): 0.01\n",
              "Forward/backward pass size (MB): 0.03\n",
              "Params size (MB): 3.69\n",
              "Estimated Total Size (MB): 3.74\n",
              "=========================================================================================="
            ]
          },
          "metadata": {},
          "execution_count": 23
        }
      ],
      "source": [
        "summary(model, input_size = (1, vocab_size))"
      ]
    },
    {
      "cell_type": "code",
      "execution_count": 149,
      "metadata": {
        "id": "qIjP8K-1U6zP"
      },
      "outputs": [],
      "source": [
        "sf = nn.Softmax()\n",
        "\n",
        "class Word2Vec(nn.Module):\n",
        "    def __init__(self, vocab_size, embedding_size):\n",
        "        super().__init__()\n",
        "        self.embed = nn.Embedding(vocab_size, embedding_size)\n",
        "        self.expand = nn.Linear(embedding_size, vocab_size, bias=False)\n",
        "\n",
        "    def forward(self, input):\n",
        "        # Encode input to lower-dimensional representation\n",
        "        hidden = self.embed(input)\n",
        "        # Expand hidden layer to predictions\n",
        "        logits = self.expand(hidden)\n",
        "        return logits"
      ]
    },
    {
      "cell_type": "code",
      "execution_count": 199,
      "metadata": {
        "id": "CtoVPPDlSvYj"
      },
      "outputs": [],
      "source": [
        "# Relevant if you have a GPU:\n",
        "device = torch.device('cuda') if torch.cuda.is_available() else torch.device('cpu')\n",
        "model = Word2Vec(vocab_size, embedding_size)\n",
        "model.to(device)\n",
        "\n",
        "# Define training parameters\n",
        "LR = 3e-2\n",
        "EPOCHS = 4\n",
        "loss_fn = nn.CrossEntropyLoss()\n",
        "optimizer = torch.optim.AdamW(model.parameters(), lr= LR)"
      ]
    },
    {
      "cell_type": "markdown",
      "metadata": {
        "id": "BtmrdfEBqukZ"
      },
      "source": [
        "Обучение топорного Word2Vec с SoftMax"
      ]
    },
    {
      "cell_type": "code",
      "execution_count": 200,
      "metadata": {
        "colab": {
          "base_uri": "https://localhost:8080/"
        },
        "id": "2Nt-kj-FS24k",
        "outputId": "d27d9acc-6400-4f45-e2a3-7251b0a9ba4b"
      },
      "outputs": [
        {
          "output_type": "stream",
          "name": "stderr",
          "text": [
            "\n",
            "  0%|          | 0/4 [00:00<?, ?it/s]\u001b[A<ipython-input-200-df38d8ee7ba1>:15: UserWarning: To copy construct from a tensor, it is recommended to use sourceTensor.clone().detach() or sourceTensor.clone().detach().requires_grad_(True), rather than torch.tensor(sourceTensor).\n",
            "  center, context = torch.tensor(center, dtype= int).to(device), torch.tensor(context, dtype=int).to(device)\n",
            " 55%|█████▌    | 11/20 [06:15<05:07, 34.12s/it]\n",
            "/usr/local/lib/python3.10/dist-packages/torch/nn/modules/module.py:1511: UserWarning: Implicit dimension choice for softmax has been deprecated. Change the call to include dim=X as an argument.\n",
            "  return self._call_impl(*args, **kwargs)\n",
            "\n",
            " 25%|██▌       | 1/4 [00:29<01:29, 29.92s/it]\u001b[A"
          ]
        },
        {
          "output_type": "stream",
          "name": "stdout",
          "text": [
            "Эпоха:0, Loss : 0.0016482133037930638, accuracy: 0.01326176431030035\n"
          ]
        },
        {
          "output_type": "stream",
          "name": "stderr",
          "text": [
            "\n",
            " 50%|█████     | 2/4 [01:00<01:00, 30.04s/it]\u001b[A"
          ]
        },
        {
          "output_type": "stream",
          "name": "stdout",
          "text": [
            "Эпоха:1, Loss : 0.0016304600393815326, accuracy: 0.013389169238507748\n"
          ]
        },
        {
          "output_type": "stream",
          "name": "stderr",
          "text": [
            "\n",
            " 75%|███████▌  | 3/4 [01:29<00:29, 29.81s/it]\u001b[A"
          ]
        },
        {
          "output_type": "stream",
          "name": "stdout",
          "text": [
            "Эпоха:2, Loss : 0.0016457588782927497, accuracy: 0.013257601298391819\n"
          ]
        },
        {
          "output_type": "stream",
          "name": "stderr",
          "text": [
            "\n",
            "100%|██████████| 4/4 [01:59<00:00, 30.00s/it]\u001b[A"
          ]
        },
        {
          "output_type": "stream",
          "name": "stdout",
          "text": [
            "Эпоха:3, Loss : 0.0016465594686696434, accuracy: 0.013472440652549267\n",
            "Время обучения модели: 119.87161493301392\n"
          ]
        }
      ],
      "source": [
        "from tqdm import tqdm  # For progress bars\n",
        "import time\n",
        "\n",
        "progress_bar = tqdm(range(EPOCHS))\n",
        "running_loss = []\n",
        "\n",
        "\n",
        "start_time = time.time()\n",
        "for epoch in range(EPOCHS):\n",
        "    epoch_loss = 0\n",
        "    total = 0\n",
        "    correct = 0\n",
        "    for center, context in dl:\n",
        "        #print('center type = ', type(center), 'context type = ', type(context))\n",
        "        center, context = torch.tensor(center, dtype= int).to(device), torch.tensor(context, dtype=int).to(device)\n",
        "        optimizer.zero_grad()\n",
        "        logits = model(center)\n",
        "        #print(logits.shape)\n",
        "        #print(context.shape)\n",
        "\n",
        "        loss = loss_fn(logits, context)\n",
        "        epoch_loss += loss.item()\n",
        "\n",
        "        loss.backward()\n",
        "        optimizer.step()\n",
        "\n",
        "        labels = torch.argmax(sf(logits), dim = 1)\n",
        "        correct += (labels == context).to(device).sum()\n",
        "        total += labels.size()[0]\n",
        "\n",
        "    progress_bar.update(1)\n",
        "    epoch_loss /= len(dl)\n",
        "    running_loss.append(epoch_loss)\n",
        "    print(f'Эпоха:{epoch}, Loss : {loss.item()/len(dl)}, accuracy: {correct/total}')\n",
        "end_time = time.time()\n",
        "\n",
        "print('Время обучения модели:', end_time - start_time)"
      ]
    },
    {
      "cell_type": "code",
      "source": [
        "print(model.state_dict())"
      ],
      "metadata": {
        "colab": {
          "base_uri": "https://localhost:8080/"
        },
        "id": "nSgA25wVymCc",
        "outputId": "d4c4ace2-31f6-41c6-a429-4aea0dd30ccf"
      },
      "execution_count": 51,
      "outputs": [
        {
          "output_type": "stream",
          "name": "stdout",
          "text": [
            "OrderedDict([('embed.weight', tensor([[-0.1575,  0.1995, -0.0381,  ..., -0.0230, -0.0476, -0.1967],\n",
            "        [ 0.1375, -0.1190, -0.0539,  ...,  0.2571, -0.1795, -0.2936],\n",
            "        [ 0.0611,  0.0381,  0.2808,  ..., -0.0094, -0.5361,  0.0941],\n",
            "        ...,\n",
            "        [ 0.4885, -0.2850,  0.2403,  ...,  0.1553, -0.4846,  0.1419],\n",
            "        [ 0.0447,  0.4100, -0.1556,  ...,  0.0815,  0.3369, -0.6519],\n",
            "        [-0.0664, -0.3264,  0.3855,  ..., -0.0904,  0.1059, -0.2428]],\n",
            "       device='cuda:0')), ('expand.weight', tensor([[ 0.0790, -0.1361,  0.1437,  ...,  0.2229, -0.2363, -0.0353],\n",
            "        [ 0.4786,  0.1381, -0.1687,  ..., -0.3296, -0.2263, -0.0360],\n",
            "        [-0.0147, -0.2978, -0.1860,  ...,  0.1355,  0.1143,  0.1161],\n",
            "        ...,\n",
            "        [ 0.1182, -0.0195,  0.3198,  ..., -0.1651, -0.0333, -0.2235],\n",
            "        [-0.0857, -0.1428, -0.2712,  ..., -0.0462,  0.0586, -0.7381],\n",
            "        [-0.4762,  0.0157, -0.3599,  ..., -0.1646,  0.5987,  0.1292]],\n",
            "       device='cuda:0'))])\n"
          ]
        }
      ]
    },
    {
      "cell_type": "markdown",
      "metadata": {
        "id": "gVS_78A1qmLU"
      },
      "source": [
        "Обучаем Word2Vec с Negative Sample"
      ]
    },
    {
      "cell_type": "code",
      "execution_count": 52,
      "metadata": {
        "id": "VzPO-yE_iWNM"
      },
      "outputs": [],
      "source": [
        "class NegativeSampling(nn.Module):\n",
        "    def __init__(self, vocab_size, embedding_size):\n",
        "        super().__init__()\n",
        "        self.embed = nn.Embedding(vocab_size, embedding_size)\n",
        "        self.expand = nn.Linear(embedding_size, vocab_size, bias=False)\n",
        "\n",
        "    def forward(self, target, context):\n",
        "        # Encode input to lower-dimensional representation\n",
        "        target_emb = self.embed(target)\n",
        "        context_emb = self.embed(context)\n",
        "        # Expand hidden layer to predictions\n",
        "        logits = torch.sigmoid(torch.einsum('ik, ik->i', target_emb, context_emb))\n",
        "        return logits"
      ]
    },
    {
      "cell_type": "code",
      "execution_count": 53,
      "metadata": {
        "id": "9eTAER7Ysit9"
      },
      "outputs": [],
      "source": [
        "import torch.nn.functional as F"
      ]
    },
    {
      "cell_type": "code",
      "execution_count": 54,
      "metadata": {
        "id": "L3s1lYF9iyaj",
        "colab": {
          "base_uri": "https://localhost:8080/"
        },
        "outputId": "5decbbdb-bcb1-4505-a560-d90a92133699"
      },
      "outputs": [
        {
          "output_type": "execute_result",
          "data": {
            "text/plain": [
              "=================================================================\n",
              "Layer (type:depth-idx)                   Param #\n",
              "=================================================================\n",
              "NegativeSampling                         --\n",
              "├─Embedding: 1-1                         461,568\n",
              "├─Linear: 1-2                            461,568\n",
              "=================================================================\n",
              "Total params: 923,136\n",
              "Trainable params: 923,136\n",
              "Non-trainable params: 0\n",
              "================================================================="
            ]
          },
          "metadata": {},
          "execution_count": 54
        }
      ],
      "source": [
        "ns = NegativeSampling(vocab_size, embedding_size)\n",
        "summary(ns)"
      ]
    },
    {
      "cell_type": "code",
      "execution_count": 55,
      "metadata": {
        "id": "rvNAVQecti6b"
      },
      "outputs": [],
      "source": [
        "# Relevant if you have a GPU:\n",
        "ns.to(device)\n",
        "\n",
        "loss_fn = F.cross_entropy\n",
        "optimizer = torch.optim.AdamW(ns.parameters(), lr=0.01)\n",
        "loss_bce = torch.nn.BCELoss()"
      ]
    },
    {
      "cell_type": "code",
      "source": [
        "def custom_loss(logit, label):\n",
        "  logit.to(torch.float64)\n",
        "  label.to(torch.float64)\n",
        "  a = torch.dot(logit.log().to(torch.float64), label)\n",
        "  b = torch.dot((1.0 - label).to(torch.float64),\n",
        "                (1.0 - logit).log().to(torch.float64))\n",
        "  return a + b"
      ],
      "metadata": {
        "id": "JfJEIEHQHE8i"
      },
      "execution_count": 56,
      "outputs": []
    },
    {
      "cell_type": "code",
      "execution_count": 196,
      "metadata": {
        "id": "VTNQcYcCtr_X",
        "colab": {
          "base_uri": "https://localhost:8080/",
          "height": 492
        },
        "outputId": "3f08d3a1-9ea6-45f1-93b4-c6094a1b4565"
      },
      "outputs": [
        {
          "output_type": "stream",
          "name": "stderr",
          "text": [
            "  0%|          | 0/20 [00:00<?, ?it/s]<ipython-input-196-9c75758e3076>:14: UserWarning: To copy construct from a tensor, it is recommended to use sourceTensor.clone().detach() or sourceTensor.clone().detach().requires_grad_(True), rather than torch.tensor(sourceTensor).\n",
            "  center, context = torch.tensor(center, dtype= int).to(device), torch.tensor(context, dtype=int).to(device)\n",
            "  5%|▌         | 1/20 [08:53<2:48:58, 533.61s/it]\n"
          ]
        },
        {
          "output_type": "error",
          "ename": "KeyboardInterrupt",
          "evalue": "",
          "traceback": [
            "\u001b[0;31m---------------------------------------------------------------------------\u001b[0m",
            "\u001b[0;31mKeyboardInterrupt\u001b[0m                         Traceback (most recent call last)",
            "\u001b[0;32m<ipython-input-196-9c75758e3076>\u001b[0m in \u001b[0;36m<cell line: 7>\u001b[0;34m()\u001b[0m\n\u001b[1;32m      9\u001b[0m     \u001b[0mcorrect\u001b[0m \u001b[0;34m=\u001b[0m \u001b[0;36m0\u001b[0m\u001b[0;34m\u001b[0m\u001b[0;34m\u001b[0m\u001b[0m\n\u001b[1;32m     10\u001b[0m     \u001b[0mtotal\u001b[0m \u001b[0;34m=\u001b[0m \u001b[0;36m0\u001b[0m\u001b[0;34m\u001b[0m\u001b[0;34m\u001b[0m\u001b[0m\n\u001b[0;32m---> 11\u001b[0;31m     \u001b[0;32mfor\u001b[0m \u001b[0mcenter\u001b[0m\u001b[0;34m,\u001b[0m \u001b[0mcontext\u001b[0m\u001b[0;34m,\u001b[0m \u001b[0mlabels\u001b[0m \u001b[0;32min\u001b[0m \u001b[0mNegativeSampling_dl\u001b[0m\u001b[0;34m:\u001b[0m\u001b[0;34m\u001b[0m\u001b[0;34m\u001b[0m\u001b[0m\n\u001b[0m\u001b[1;32m     12\u001b[0m         \u001b[0;31m#print('center type = ', type(center), 'context type = ', type(context))\u001b[0m\u001b[0;34m\u001b[0m\u001b[0;34m\u001b[0m\u001b[0m\n\u001b[1;32m     13\u001b[0m         \u001b[0;31m#center, context = center.to(device).to(torch.float32), context.to(device).to(torch.float32)\u001b[0m\u001b[0;34m\u001b[0m\u001b[0;34m\u001b[0m\u001b[0m\n",
            "\u001b[0;32m/usr/local/lib/python3.10/dist-packages/torch/utils/data/dataloader.py\u001b[0m in \u001b[0;36m__next__\u001b[0;34m(self)\u001b[0m\n\u001b[1;32m    629\u001b[0m                 \u001b[0;31m# TODO(https://github.com/pytorch/pytorch/issues/76750)\u001b[0m\u001b[0;34m\u001b[0m\u001b[0;34m\u001b[0m\u001b[0m\n\u001b[1;32m    630\u001b[0m                 \u001b[0mself\u001b[0m\u001b[0;34m.\u001b[0m\u001b[0m_reset\u001b[0m\u001b[0;34m(\u001b[0m\u001b[0;34m)\u001b[0m  \u001b[0;31m# type: ignore[call-arg]\u001b[0m\u001b[0;34m\u001b[0m\u001b[0;34m\u001b[0m\u001b[0m\n\u001b[0;32m--> 631\u001b[0;31m             \u001b[0mdata\u001b[0m \u001b[0;34m=\u001b[0m \u001b[0mself\u001b[0m\u001b[0;34m.\u001b[0m\u001b[0m_next_data\u001b[0m\u001b[0;34m(\u001b[0m\u001b[0;34m)\u001b[0m\u001b[0;34m\u001b[0m\u001b[0;34m\u001b[0m\u001b[0m\n\u001b[0m\u001b[1;32m    632\u001b[0m             \u001b[0mself\u001b[0m\u001b[0;34m.\u001b[0m\u001b[0m_num_yielded\u001b[0m \u001b[0;34m+=\u001b[0m \u001b[0;36m1\u001b[0m\u001b[0;34m\u001b[0m\u001b[0;34m\u001b[0m\u001b[0m\n\u001b[1;32m    633\u001b[0m             \u001b[0;32mif\u001b[0m \u001b[0mself\u001b[0m\u001b[0;34m.\u001b[0m\u001b[0m_dataset_kind\u001b[0m \u001b[0;34m==\u001b[0m \u001b[0m_DatasetKind\u001b[0m\u001b[0;34m.\u001b[0m\u001b[0mIterable\u001b[0m \u001b[0;32mand\u001b[0m\u001b[0;31m \u001b[0m\u001b[0;31m\\\u001b[0m\u001b[0;34m\u001b[0m\u001b[0;34m\u001b[0m\u001b[0m\n",
            "\u001b[0;32m/usr/local/lib/python3.10/dist-packages/torch/utils/data/dataloader.py\u001b[0m in \u001b[0;36m_next_data\u001b[0;34m(self)\u001b[0m\n\u001b[1;32m    673\u001b[0m     \u001b[0;32mdef\u001b[0m \u001b[0m_next_data\u001b[0m\u001b[0;34m(\u001b[0m\u001b[0mself\u001b[0m\u001b[0;34m)\u001b[0m\u001b[0;34m:\u001b[0m\u001b[0;34m\u001b[0m\u001b[0;34m\u001b[0m\u001b[0m\n\u001b[1;32m    674\u001b[0m         \u001b[0mindex\u001b[0m \u001b[0;34m=\u001b[0m \u001b[0mself\u001b[0m\u001b[0;34m.\u001b[0m\u001b[0m_next_index\u001b[0m\u001b[0;34m(\u001b[0m\u001b[0;34m)\u001b[0m  \u001b[0;31m# may raise StopIteration\u001b[0m\u001b[0;34m\u001b[0m\u001b[0;34m\u001b[0m\u001b[0m\n\u001b[0;32m--> 675\u001b[0;31m         \u001b[0mdata\u001b[0m \u001b[0;34m=\u001b[0m \u001b[0mself\u001b[0m\u001b[0;34m.\u001b[0m\u001b[0m_dataset_fetcher\u001b[0m\u001b[0;34m.\u001b[0m\u001b[0mfetch\u001b[0m\u001b[0;34m(\u001b[0m\u001b[0mindex\u001b[0m\u001b[0;34m)\u001b[0m  \u001b[0;31m# may raise StopIteration\u001b[0m\u001b[0;34m\u001b[0m\u001b[0;34m\u001b[0m\u001b[0m\n\u001b[0m\u001b[1;32m    676\u001b[0m         \u001b[0;32mif\u001b[0m \u001b[0mself\u001b[0m\u001b[0;34m.\u001b[0m\u001b[0m_pin_memory\u001b[0m\u001b[0;34m:\u001b[0m\u001b[0;34m\u001b[0m\u001b[0;34m\u001b[0m\u001b[0m\n\u001b[1;32m    677\u001b[0m             \u001b[0mdata\u001b[0m \u001b[0;34m=\u001b[0m \u001b[0m_utils\u001b[0m\u001b[0;34m.\u001b[0m\u001b[0mpin_memory\u001b[0m\u001b[0;34m.\u001b[0m\u001b[0mpin_memory\u001b[0m\u001b[0;34m(\u001b[0m\u001b[0mdata\u001b[0m\u001b[0;34m,\u001b[0m \u001b[0mself\u001b[0m\u001b[0;34m.\u001b[0m\u001b[0m_pin_memory_device\u001b[0m\u001b[0;34m)\u001b[0m\u001b[0;34m\u001b[0m\u001b[0;34m\u001b[0m\u001b[0m\n",
            "\u001b[0;32m/usr/local/lib/python3.10/dist-packages/torch/utils/data/_utils/fetch.py\u001b[0m in \u001b[0;36mfetch\u001b[0;34m(self, possibly_batched_index)\u001b[0m\n\u001b[1;32m     49\u001b[0m                 \u001b[0mdata\u001b[0m \u001b[0;34m=\u001b[0m \u001b[0mself\u001b[0m\u001b[0;34m.\u001b[0m\u001b[0mdataset\u001b[0m\u001b[0;34m.\u001b[0m\u001b[0m__getitems__\u001b[0m\u001b[0;34m(\u001b[0m\u001b[0mpossibly_batched_index\u001b[0m\u001b[0;34m)\u001b[0m\u001b[0;34m\u001b[0m\u001b[0;34m\u001b[0m\u001b[0m\n\u001b[1;32m     50\u001b[0m             \u001b[0;32melse\u001b[0m\u001b[0;34m:\u001b[0m\u001b[0;34m\u001b[0m\u001b[0;34m\u001b[0m\u001b[0m\n\u001b[0;32m---> 51\u001b[0;31m                 \u001b[0mdata\u001b[0m \u001b[0;34m=\u001b[0m \u001b[0;34m[\u001b[0m\u001b[0mself\u001b[0m\u001b[0;34m.\u001b[0m\u001b[0mdataset\u001b[0m\u001b[0;34m[\u001b[0m\u001b[0midx\u001b[0m\u001b[0;34m]\u001b[0m \u001b[0;32mfor\u001b[0m \u001b[0midx\u001b[0m \u001b[0;32min\u001b[0m \u001b[0mpossibly_batched_index\u001b[0m\u001b[0;34m]\u001b[0m\u001b[0;34m\u001b[0m\u001b[0;34m\u001b[0m\u001b[0m\n\u001b[0m\u001b[1;32m     52\u001b[0m         \u001b[0;32melse\u001b[0m\u001b[0;34m:\u001b[0m\u001b[0;34m\u001b[0m\u001b[0;34m\u001b[0m\u001b[0m\n\u001b[1;32m     53\u001b[0m             \u001b[0mdata\u001b[0m \u001b[0;34m=\u001b[0m \u001b[0mself\u001b[0m\u001b[0;34m.\u001b[0m\u001b[0mdataset\u001b[0m\u001b[0;34m[\u001b[0m\u001b[0mpossibly_batched_index\u001b[0m\u001b[0;34m]\u001b[0m\u001b[0;34m\u001b[0m\u001b[0;34m\u001b[0m\u001b[0m\n",
            "\u001b[0;32m/usr/local/lib/python3.10/dist-packages/torch/utils/data/_utils/fetch.py\u001b[0m in \u001b[0;36m<listcomp>\u001b[0;34m(.0)\u001b[0m\n\u001b[1;32m     49\u001b[0m                 \u001b[0mdata\u001b[0m \u001b[0;34m=\u001b[0m \u001b[0mself\u001b[0m\u001b[0;34m.\u001b[0m\u001b[0mdataset\u001b[0m\u001b[0;34m.\u001b[0m\u001b[0m__getitems__\u001b[0m\u001b[0;34m(\u001b[0m\u001b[0mpossibly_batched_index\u001b[0m\u001b[0;34m)\u001b[0m\u001b[0;34m\u001b[0m\u001b[0;34m\u001b[0m\u001b[0m\n\u001b[1;32m     50\u001b[0m             \u001b[0;32melse\u001b[0m\u001b[0;34m:\u001b[0m\u001b[0;34m\u001b[0m\u001b[0;34m\u001b[0m\u001b[0m\n\u001b[0;32m---> 51\u001b[0;31m                 \u001b[0mdata\u001b[0m \u001b[0;34m=\u001b[0m \u001b[0;34m[\u001b[0m\u001b[0mself\u001b[0m\u001b[0;34m.\u001b[0m\u001b[0mdataset\u001b[0m\u001b[0;34m[\u001b[0m\u001b[0midx\u001b[0m\u001b[0;34m]\u001b[0m \u001b[0;32mfor\u001b[0m \u001b[0midx\u001b[0m \u001b[0;32min\u001b[0m \u001b[0mpossibly_batched_index\u001b[0m\u001b[0;34m]\u001b[0m\u001b[0;34m\u001b[0m\u001b[0;34m\u001b[0m\u001b[0m\n\u001b[0m\u001b[1;32m     52\u001b[0m         \u001b[0;32melse\u001b[0m\u001b[0;34m:\u001b[0m\u001b[0;34m\u001b[0m\u001b[0;34m\u001b[0m\u001b[0m\n\u001b[1;32m     53\u001b[0m             \u001b[0mdata\u001b[0m \u001b[0;34m=\u001b[0m \u001b[0mself\u001b[0m\u001b[0;34m.\u001b[0m\u001b[0mdataset\u001b[0m\u001b[0;34m[\u001b[0m\u001b[0mpossibly_batched_index\u001b[0m\u001b[0;34m]\u001b[0m\u001b[0;34m\u001b[0m\u001b[0;34m\u001b[0m\u001b[0m\n",
            "\u001b[0;32m<ipython-input-18-c448cd572ce1>\u001b[0m in \u001b[0;36m__getitem__\u001b[0;34m(self, idx)\u001b[0m\n\u001b[1;32m     11\u001b[0m     \u001b[0;32mdef\u001b[0m \u001b[0m__getitem__\u001b[0m\u001b[0;34m(\u001b[0m\u001b[0mself\u001b[0m\u001b[0;34m,\u001b[0m \u001b[0midx\u001b[0m\u001b[0;34m)\u001b[0m\u001b[0;34m:\u001b[0m\u001b[0;34m\u001b[0m\u001b[0;34m\u001b[0m\u001b[0m\n\u001b[1;32m     12\u001b[0m         \u001b[0mX_batch\u001b[0m \u001b[0;34m=\u001b[0m  \u001b[0mself\u001b[0m\u001b[0;34m.\u001b[0m\u001b[0mdata\u001b[0m\u001b[0;34m[\u001b[0m\u001b[0;34m'X'\u001b[0m\u001b[0;34m]\u001b[0m\u001b[0;34m.\u001b[0m\u001b[0miloc\u001b[0m\u001b[0;34m[\u001b[0m\u001b[0midx\u001b[0m\u001b[0;34m]\u001b[0m\u001b[0;34m\u001b[0m\u001b[0;34m\u001b[0m\u001b[0m\n\u001b[0;32m---> 13\u001b[0;31m         \u001b[0my_batch\u001b[0m \u001b[0;34m=\u001b[0m  \u001b[0mself\u001b[0m\u001b[0;34m.\u001b[0m\u001b[0mdata\u001b[0m\u001b[0;34m[\u001b[0m\u001b[0;34m'y'\u001b[0m\u001b[0;34m]\u001b[0m\u001b[0;34m.\u001b[0m\u001b[0miloc\u001b[0m\u001b[0;34m[\u001b[0m\u001b[0midx\u001b[0m\u001b[0;34m]\u001b[0m\u001b[0;34m\u001b[0m\u001b[0;34m\u001b[0m\u001b[0m\n\u001b[0m\u001b[1;32m     14\u001b[0m         \u001b[0mlabel\u001b[0m \u001b[0;34m=\u001b[0m \u001b[0mself\u001b[0m\u001b[0;34m.\u001b[0m\u001b[0mdata\u001b[0m\u001b[0;34m[\u001b[0m\u001b[0;34m'label'\u001b[0m\u001b[0;34m]\u001b[0m\u001b[0;34m.\u001b[0m\u001b[0miloc\u001b[0m\u001b[0;34m[\u001b[0m\u001b[0midx\u001b[0m\u001b[0;34m]\u001b[0m\u001b[0;34m\u001b[0m\u001b[0;34m\u001b[0m\u001b[0m\n\u001b[1;32m     15\u001b[0m         \u001b[0;32mreturn\u001b[0m \u001b[0mfloat\u001b[0m\u001b[0;34m(\u001b[0m\u001b[0mX_batch\u001b[0m\u001b[0;34m)\u001b[0m\u001b[0;34m,\u001b[0m \u001b[0mfloat\u001b[0m\u001b[0;34m(\u001b[0m\u001b[0my_batch\u001b[0m\u001b[0;34m)\u001b[0m\u001b[0;34m,\u001b[0m \u001b[0mfloat\u001b[0m\u001b[0;34m(\u001b[0m\u001b[0mlabel\u001b[0m\u001b[0;34m)\u001b[0m\u001b[0;34m\u001b[0m\u001b[0;34m\u001b[0m\u001b[0m\n",
            "\u001b[0;32m/usr/local/lib/python3.10/dist-packages/pandas/core/indexing.py\u001b[0m in \u001b[0;36m__getitem__\u001b[0;34m(self, key)\u001b[0m\n\u001b[1;32m   1071\u001b[0m \u001b[0;34m\u001b[0m\u001b[0m\n\u001b[1;32m   1072\u001b[0m             \u001b[0mmaybe_callable\u001b[0m \u001b[0;34m=\u001b[0m \u001b[0mcom\u001b[0m\u001b[0;34m.\u001b[0m\u001b[0mapply_if_callable\u001b[0m\u001b[0;34m(\u001b[0m\u001b[0mkey\u001b[0m\u001b[0;34m,\u001b[0m \u001b[0mself\u001b[0m\u001b[0;34m.\u001b[0m\u001b[0mobj\u001b[0m\u001b[0;34m)\u001b[0m\u001b[0;34m\u001b[0m\u001b[0;34m\u001b[0m\u001b[0m\n\u001b[0;32m-> 1073\u001b[0;31m             \u001b[0;32mreturn\u001b[0m \u001b[0mself\u001b[0m\u001b[0;34m.\u001b[0m\u001b[0m_getitem_axis\u001b[0m\u001b[0;34m(\u001b[0m\u001b[0mmaybe_callable\u001b[0m\u001b[0;34m,\u001b[0m \u001b[0maxis\u001b[0m\u001b[0;34m=\u001b[0m\u001b[0maxis\u001b[0m\u001b[0;34m)\u001b[0m\u001b[0;34m\u001b[0m\u001b[0;34m\u001b[0m\u001b[0m\n\u001b[0m\u001b[1;32m   1074\u001b[0m \u001b[0;34m\u001b[0m\u001b[0m\n\u001b[1;32m   1075\u001b[0m     \u001b[0;32mdef\u001b[0m \u001b[0m_is_scalar_access\u001b[0m\u001b[0;34m(\u001b[0m\u001b[0mself\u001b[0m\u001b[0;34m,\u001b[0m \u001b[0mkey\u001b[0m\u001b[0;34m:\u001b[0m \u001b[0mtuple\u001b[0m\u001b[0;34m)\u001b[0m\u001b[0;34m:\u001b[0m\u001b[0;34m\u001b[0m\u001b[0;34m\u001b[0m\u001b[0m\n",
            "\u001b[0;32m/usr/local/lib/python3.10/dist-packages/pandas/core/indexing.py\u001b[0m in \u001b[0;36m_getitem_axis\u001b[0;34m(self, key, axis)\u001b[0m\n\u001b[1;32m   1608\u001b[0m             \u001b[0mkey\u001b[0m \u001b[0;34m=\u001b[0m \u001b[0mnp\u001b[0m\u001b[0;34m.\u001b[0m\u001b[0masarray\u001b[0m\u001b[0;34m(\u001b[0m\u001b[0mkey\u001b[0m\u001b[0;34m)\u001b[0m\u001b[0;34m\u001b[0m\u001b[0;34m\u001b[0m\u001b[0m\n\u001b[1;32m   1609\u001b[0m \u001b[0;34m\u001b[0m\u001b[0m\n\u001b[0;32m-> 1610\u001b[0;31m         \u001b[0;32mif\u001b[0m \u001b[0mcom\u001b[0m\u001b[0;34m.\u001b[0m\u001b[0mis_bool_indexer\u001b[0m\u001b[0;34m(\u001b[0m\u001b[0mkey\u001b[0m\u001b[0;34m)\u001b[0m\u001b[0;34m:\u001b[0m\u001b[0;34m\u001b[0m\u001b[0;34m\u001b[0m\u001b[0m\n\u001b[0m\u001b[1;32m   1611\u001b[0m             \u001b[0mself\u001b[0m\u001b[0;34m.\u001b[0m\u001b[0m_validate_key\u001b[0m\u001b[0;34m(\u001b[0m\u001b[0mkey\u001b[0m\u001b[0;34m,\u001b[0m \u001b[0maxis\u001b[0m\u001b[0;34m)\u001b[0m\u001b[0;34m\u001b[0m\u001b[0;34m\u001b[0m\u001b[0m\n\u001b[1;32m   1612\u001b[0m             \u001b[0;32mreturn\u001b[0m \u001b[0mself\u001b[0m\u001b[0;34m.\u001b[0m\u001b[0m_getbool_axis\u001b[0m\u001b[0;34m(\u001b[0m\u001b[0mkey\u001b[0m\u001b[0;34m,\u001b[0m \u001b[0maxis\u001b[0m\u001b[0;34m=\u001b[0m\u001b[0maxis\u001b[0m\u001b[0;34m)\u001b[0m\u001b[0;34m\u001b[0m\u001b[0;34m\u001b[0m\u001b[0m\n",
            "\u001b[0;32m/usr/local/lib/python3.10/dist-packages/pandas/core/common.py\u001b[0m in \u001b[0;36mis_bool_indexer\u001b[0;34m(key)\u001b[0m\n\u001b[1;32m    122\u001b[0m         \u001b[0;32mand\u001b[0m \u001b[0mconvert\u001b[0m \u001b[0mto\u001b[0m \u001b[0man\u001b[0m \u001b[0mndarray\u001b[0m\u001b[0;34m.\u001b[0m\u001b[0;34m\u001b[0m\u001b[0;34m\u001b[0m\u001b[0m\n\u001b[1;32m    123\u001b[0m     \"\"\"\n\u001b[0;32m--> 124\u001b[0;31m     if isinstance(key, (ABCSeries, np.ndarray, ABCIndex)) or (\n\u001b[0m\u001b[1;32m    125\u001b[0m         \u001b[0mis_array_like\u001b[0m\u001b[0;34m(\u001b[0m\u001b[0mkey\u001b[0m\u001b[0;34m)\u001b[0m \u001b[0;32mand\u001b[0m \u001b[0mis_extension_array_dtype\u001b[0m\u001b[0;34m(\u001b[0m\u001b[0mkey\u001b[0m\u001b[0;34m.\u001b[0m\u001b[0mdtype\u001b[0m\u001b[0;34m)\u001b[0m\u001b[0;34m\u001b[0m\u001b[0;34m\u001b[0m\u001b[0m\n\u001b[1;32m    126\u001b[0m     ):\n",
            "\u001b[0;32m/usr/local/lib/python3.10/dist-packages/pandas/core/dtypes/generic.py\u001b[0m in \u001b[0;36m_instancecheck\u001b[0;34m(cls, inst)\u001b[0m\n\u001b[1;32m     43\u001b[0m     \u001b[0;31m# https://github.com/python/mypy/issues/1006\u001b[0m\u001b[0;34m\u001b[0m\u001b[0;34m\u001b[0m\u001b[0m\n\u001b[1;32m     44\u001b[0m     \u001b[0;31m# error: 'classmethod' used with a non-method\u001b[0m\u001b[0;34m\u001b[0m\u001b[0;34m\u001b[0m\u001b[0m\n\u001b[0;32m---> 45\u001b[0;31m     \u001b[0;34m@\u001b[0m\u001b[0mclassmethod\u001b[0m  \u001b[0;31m# type: ignore[misc]\u001b[0m\u001b[0;34m\u001b[0m\u001b[0;34m\u001b[0m\u001b[0m\n\u001b[0m\u001b[1;32m     46\u001b[0m     \u001b[0;32mdef\u001b[0m \u001b[0m_instancecheck\u001b[0m\u001b[0;34m(\u001b[0m\u001b[0mcls\u001b[0m\u001b[0;34m,\u001b[0m \u001b[0minst\u001b[0m\u001b[0;34m)\u001b[0m \u001b[0;34m->\u001b[0m \u001b[0mbool\u001b[0m\u001b[0;34m:\u001b[0m\u001b[0;34m\u001b[0m\u001b[0;34m\u001b[0m\u001b[0m\n\u001b[1;32m     47\u001b[0m         \u001b[0;32mreturn\u001b[0m \u001b[0m_check\u001b[0m\u001b[0;34m(\u001b[0m\u001b[0minst\u001b[0m\u001b[0;34m)\u001b[0m \u001b[0;32mand\u001b[0m \u001b[0;32mnot\u001b[0m \u001b[0misinstance\u001b[0m\u001b[0;34m(\u001b[0m\u001b[0minst\u001b[0m\u001b[0;34m,\u001b[0m \u001b[0mtype\u001b[0m\u001b[0;34m)\u001b[0m\u001b[0;34m\u001b[0m\u001b[0;34m\u001b[0m\u001b[0m\n",
            "\u001b[0;31mKeyboardInterrupt\u001b[0m: "
          ]
        }
      ],
      "source": [
        "from tqdm import tqdm  # For progress bars\n",
        "\n",
        "\n",
        "progress_bar = tqdm(range(EPOCHS))\n",
        "running_loss_ns = []\n",
        "start_time = time.time()\n",
        "for epoch in range(EPOCHS):\n",
        "    epoch_loss = 0\n",
        "    correct = 0\n",
        "    total = 0\n",
        "    for center, context, labels in NegativeSampling_dl:\n",
        "        #print('center type = ', type(center), 'context type = ', type(context))\n",
        "        #center, context = center.to(device).to(torch.float32), context.to(device).to(torch.float32)\n",
        "        center, context = torch.tensor(center, dtype= int).to(device), torch.tensor(context, dtype=int).to(device)\n",
        "\n",
        "        optimizer.zero_grad()\n",
        "        logits = ns(center, context)\n",
        "        loss = loss_bce(logits.to(torch.float32), labels.to(device).to(torch.float32))\n",
        "        epoch_loss += loss.item()\n",
        "\n",
        "        correct += ((logits > 0.5).to(device) == labels.to(device)).sum().item()\n",
        "        #print(correct)\n",
        "        total += labels.size()[0]\n",
        "        loss.backward()\n",
        "        optimizer.step()\n",
        "\n",
        "    progress_bar.update(1)\n",
        "    epoch_loss /= len(dl)\n",
        "    running_loss_ns.append(epoch_loss)\n",
        "    print(f'Эпоха:{epoch}, Loss:{epoch_loss}, accuracy:{(correct/total)}')\n",
        "end_time = time.time()\n",
        "print('Время обучения модели:', end_time - start_time)"
      ]
    },
    {
      "cell_type": "markdown",
      "metadata": {
        "id": "-ya9FLO1r-Oy"
      },
      "source": [
        "Анализ полученных результатов"
      ]
    },
    {
      "cell_type": "code",
      "execution_count": 202,
      "metadata": {
        "id": "s2EcnLF9pLmM",
        "colab": {
          "base_uri": "https://localhost:8080/",
          "height": 452
        },
        "outputId": "7476d320-39cb-4336-d0ea-ae5bf52490e4"
      },
      "outputs": [
        {
          "output_type": "execute_result",
          "data": {
            "text/plain": [
              "[<matplotlib.lines.Line2D at 0x7b92e61228c0>]"
            ]
          },
          "metadata": {},
          "execution_count": 202
        },
        {
          "output_type": "display_data",
          "data": {
            "text/plain": [
              "<Figure size 640x480 with 1 Axes>"
            ],
            "image/png": "[encoded data removed]"
          },
          "metadata": {}
        }
      ],
      "source": [
        "import matplotlib.pyplot as plt\n",
        "plt.plot(running_loss)"
      ]
    },
    {
      "cell_type": "code",
      "source": [
        "progress_bar = tqdm(range(EPOCHS))\n",
        "start_time = time.time()\n",
        "\n",
        "correct = 0\n",
        "total = ns_test.size\n",
        "print(total)\n",
        "total = 0\n",
        "correct = 0\n",
        "\n",
        "NegativeSampling_dl_test = NegativeSampling_dl = DataLoader(NegativeSampleDadtaset(ns_test), shuffle = True,\n",
        "                                 batch_size = 256, drop_last = True, pin_memory=True)\n",
        "with torch.no_grad():\n",
        "    for center, context, labels in NegativeSampling_dl_test:\n",
        "        #print('center type = ', type(center), 'context type = ', type(context))\n",
        "        #center, context = center.to(device).to(torch.float32), context.to(device).to(torch.float32)\n",
        "        center, context = torch.tensor(center, dtype= int).to(device), torch.tensor(context, dtype=int).to(device)\n",
        "\n",
        "        optimizer.zero_grad()\n",
        "        logits = ns(center, context)\n",
        "\n",
        "        loss = loss_fn(logits, labels.to(device))\n",
        "        epoch_loss += loss.item()\n",
        "\n",
        "\n",
        "        correct += ((logits > 0.5).to(device) == labels.to(device)).sum().item()\n",
        "        total += logits.size()[0]\n",
        "    progress_bar.update(1)\n",
        "    epoch_loss /= len(dl)\n",
        "    print(epoch_loss)\n",
        "\n",
        "end_time = time.time()\n",
        "print('Время обучения модели:', end_time - start_time)\n",
        "\n",
        "print(total)\n",
        "print(f'Accuracy:{correct/total}')"
      ],
      "metadata": {
        "colab": {
          "base_uri": "https://localhost:8080/"
        },
        "id": "7sPAf0Go6b7L",
        "outputId": "1bb2c94a-8393-4200-8c3d-d0dd2305edc5"
      },
      "execution_count": 59,
      "outputs": [
        {
          "output_type": "stream",
          "name": "stderr",
          "text": [
            "  0%|          | 0/3 [00:00<?, ?it/s]<ipython-input-59-fbdee46cfe3b>:15: UserWarning: To copy construct from a tensor, it is recommended to use sourceTensor.clone().detach() or sourceTensor.clone().detach().requires_grad_(True), rather than torch.tensor(sourceTensor).\n",
            "  center, context = torch.tensor(center, dtype= int).to(device), torch.tensor(context, dtype=int).to(device)\n",
            "100%|██████████| 3/3 [01:00<00:00, 20.08s/it]\n"
          ]
        },
        {
          "output_type": "stream",
          "name": "stdout",
          "text": [
            "1801512\n"
          ]
        },
        {
          "output_type": "stream",
          "name": "stderr",
          "text": [
            "\r 33%|███▎      | 1/3 [00:18<00:36, 18.22s/it]"
          ]
        },
        {
          "output_type": "stream",
          "name": "stdout",
          "text": [
            "338.92290968854024\n",
            "Время обучения модели: 18.220929861068726\n",
            "600320\n",
            "Accuracy:0.8793560101279317\n"
          ]
        }
      ]
    },
    {
      "cell_type": "code",
      "source": [
        "progress_bar = tqdm(range(EPOCHS))\n",
        "start_time = time.time()\n",
        "\n",
        "correct = 0\n",
        "total = ns_test.size\n",
        "print(total)\n",
        "total = 0\n",
        "correct = 0\n",
        "loss_fn = nn.CrossEntropyLoss()\n",
        "dl_test = DataLoader(Word2VecDataset(test), shuffle = True,\n",
        "                                 batch_size = 256, drop_last = True, pin_memory=True)\n",
        "\n",
        "with torch.no_grad():\n",
        "    for center, context in dl_test:\n",
        "        #print('center type = ', type(center), 'context type = ', type(context))\n",
        "        #center, context = center.to(device), context.to(device)\n",
        "        center, context = torch.tensor(center, dtype=int).to(device), torch.tensor(context, dtype=int).to(device)\n",
        "\n",
        "        optimizer.zero_grad()\n",
        "        predicts = model(center)\n",
        "\n",
        "        loss = loss_fn(predicts, context)\n",
        "        epoch_loss += loss.item()\n",
        "        predicts = torch.argsort(predicts, dim = 1)\n",
        "\n",
        "        predicts = list(predicts.cpu().numpy())\n",
        "        center = list(center.cpu().numpy())\n",
        "\n",
        "        hit_arr = [1] * len(center)\n",
        "\n",
        "        for i, (predict, central_word) in enumerate(zip(predicts, center)):\n",
        "          set_context = contexts[central_word]\n",
        "          if predict[0] not in set(set_context):\n",
        "            hit_arr[i] = 0\n",
        "\n",
        "        correct += sum(hit_arr)\n",
        "        total += logits.size()[0]\n",
        "    progress_bar.update(1)\n",
        "    epoch_loss /= len(dl)\n",
        "    print(epoch_loss)\n",
        "\n",
        "end_time = time.time()\n",
        "print('Время обучения модели:', end_time - start_time)\n",
        "\n",
        "print(total)\n",
        "print(f'Accuracy:{correct/total}')"
      ],
      "metadata": {
        "colab": {
          "base_uri": "https://localhost:8080/"
        },
        "id": "aEItyOVGeTze",
        "outputId": "aa6dfe35-cddc-401f-f8fa-7e68d3279282"
      },
      "execution_count": 194,
      "outputs": [
        {
          "output_type": "stream",
          "name": "stderr",
          "text": [
            "\n",
            "  5%|▌         | 1/20 [00:51<16:13, 51.26s/it]\n",
            "<ipython-input-194-9d7f38f3b1f6>:17: UserWarning: To copy construct from a tensor, it is recommended to use sourceTensor.clone().detach() or sourceTensor.clone().detach().requires_grad_(True), rather than torch.tensor(sourceTensor).\n",
            "  center, context = torch.tensor(center, dtype=int).to(device), torch.tensor(context, dtype=int).to(device)\n"
          ]
        },
        {
          "output_type": "stream",
          "name": "stdout",
          "text": [
            "1801512\n"
          ]
        },
        {
          "output_type": "stream",
          "name": "stderr",
          "text": [
            "\n",
            "  5%|▌         | 1/20 [00:13<04:10, 13.19s/it]\u001b[A"
          ]
        },
        {
          "output_type": "stream",
          "name": "stdout",
          "text": [
            "146.9610305355967\n",
            "Время обучения модели: 13.203563690185547\n",
            "300032\n",
            "Accuracy:0.0008065806313993174\n"
          ]
        }
      ]
    },
    {
      "cell_type": "code",
      "execution_count": 84,
      "metadata": {
        "id": "Oxn4Pfks3jKc",
        "colab": {
          "base_uri": "https://localhost:8080/",
          "height": 453
        },
        "outputId": "db463f9f-496a-46b9-88f4-ab94cbbb6dce"
      },
      "outputs": [
        {
          "output_type": "execute_result",
          "data": {
            "text/plain": [
              "[<matplotlib.lines.Line2D at 0x7b92f16b3e20>]"
            ]
          },
          "metadata": {},
          "execution_count": 84
        },
        {
          "output_type": "display_data",
          "data": {
            "text/plain": [
              "<Figure size 640x480 with 1 Axes>"
            ],
            "image/png": "[encoded data removed]"
          },
          "metadata": {}
        }
      ],
      "source": [
        "import matplotlib.pyplot as plt\n",
        "\n",
        "plt.plot(running_loss_ns, label = 'negative sampling w2v')\n",
        "plt.plot(running_loss, label = 'basic w2v')"
      ]
    },
    {
      "cell_type": "code",
      "source": [],
      "metadata": {
        "id": "KHyv_txb7HY_"
      },
      "execution_count": null,
      "outputs": []
    },
    {
      "cell_type": "code",
      "execution_count": 62,
      "metadata": {
        "id": "oBdrhIjlp8FK",
        "colab": {
          "base_uri": "https://localhost:8080/"
        },
        "outputId": "6208bf70-f94c-4474-e933-4fbdecd9fdc1"
      },
      "outputs": [
        {
          "output_type": "execute_result",
          "data": {
            "text/plain": [
              "(3606, 128)"
            ]
          },
          "metadata": {},
          "execution_count": 62
        }
      ],
      "source": [
        "params = model.state_dict()\n",
        "Embedding_representation = params['embed.weight'].cpu().numpy()\n",
        "Embedding_representation.shape"
      ]
    },
    {
      "cell_type": "code",
      "execution_count": 63,
      "metadata": {
        "id": "0MBNgDMipuCq",
        "colab": {
          "base_uri": "https://localhost:8080/"
        },
        "outputId": "af910e9f-abc0-4f83-f5cc-5f9f8983ab1a"
      },
      "outputs": [
        {
          "output_type": "stream",
          "name": "stdout",
          "text": [
            "(3606, 3606)\n",
            "0\n",
            "л ['спальн', 'город', 'низк', 'пожал', 'кузьмич', 'проспект', 'сказа', 'шаг', 'плеч', 'влаг'] \n",
            "\n",
            "(3606, 3606)\n",
            "1\n",
            "н ['жен', 'секретн', 'покаян', 'конференц', 'выказыва', 'пожертвова', 'несравнен', 'пол', 'составля', 'почувствова'] \n",
            "\n",
            "(3606, 3606)\n",
            "2\n",
            "достоевск ['счит', 'межсезон', 'знач', 'деятельн', 'глав', 'я', 'владычеств', 'укор', 'сынов', 'преселя'] \n",
            "\n",
            "(3606, 3606)\n",
            "3\n",
            "кампан ['приказыва', 'всяк', 'происшеств', 'конкретн', 'неужел', 'изолирова', 'психологическ', 'избавлен', 'древн', 'контролирова'] \n",
            "\n",
            "(3606, 3606)\n",
            "4\n",
            "континент ['погуб', 'функционир', 'изложен', 'способств', 'вполн', 'историографическ', 'останавлив', 'науч', 'эт', 'председател'] \n",
            "\n",
            "(3606, 3606)\n",
            "5\n",
            "имен ['предположен', 'разобра', 'смерт', 'высочеств', 'пыла', 'стыд', 'извол', 'выражен', 'неспешн', 'деликатн'] \n",
            "\n",
            "(3606, 3606)\n",
            "6\n",
            "преда ['надот', 'кажут', 'председател', 'подход', 'геройств', 'проступк', 'наряд', 'неясн', 'поверя', 'доказа'] \n",
            "\n",
            "(3606, 3606)\n",
            "7\n",
            "невольник ['назатыльник', 'царевич', 'призна', 'скрыт', 'неразумн', 'сведущ', 'попрежн', 'заключ', 'жизнен', 'повоева'] \n",
            "\n",
            "(3606, 3606)\n",
            "8\n",
            "ну ['дурн', 'неправ', 'двадцат', 'антипап', 'барон', 'дуняш', 'упомин', 'слета', 'кат', 'забуд'] \n",
            "\n",
            "(3606, 3606)\n",
            "9\n",
            "зов ['герас', 'пышност', 'укоря', 'старин', 'баронесс', 'тся', 'извол', 'матер', 'тосклив', 'начальств'] \n",
            "\n",
            "(3606, 3606)\n",
            "9\n",
            "зов ['герас', 'пышност', 'укоря', 'старин', 'баронесс', 'тся', 'извол', 'матер', 'тосклив', 'начальств'] \n",
            "\n",
            "(3606, 3606)\n",
            "10\n",
            "усажива ['спрята', 'кол', 'лиз', 'предложен', 'удивлен', 'наташ', 'бабушк', 'плох', 'старичок', 'покрасн'] \n",
            "\n"
          ]
        }
      ],
      "source": [
        "from scipy.spatial import distance\n",
        "import numpy as np\n",
        "\n",
        "def get_k_similar_words(word, dist_matrix, k=10):\n",
        "    idx = word2id[word]\n",
        "    print(dist_matrix.shape)\n",
        "    print(idx)\n",
        "    dists = dist_matrix[idx]\n",
        "    ind = np.argpartition(dists, k)[:k+1]\n",
        "    ind = ind[np.argsort(dists[ind])][1:]\n",
        "    out = [(i, id2word[i], dists[i]) for i in ind]\n",
        "    return out\n",
        "\n",
        "def get_distance_matrix(wordvecs, metric):\n",
        "    dist_matrix = distance.squareform(distance.pdist(wordvecs, metric))\n",
        "    return dist_matrix\n",
        "\n",
        "dist_matrix = get_distance_matrix(Embedding_representation, 'cosine')\n",
        "\n",
        "\n",
        "for i, word in enumerate(words):\n",
        "  print(word, [t[1] for t in get_k_similar_words(word, dist_matrix)], \"\\n\")\n",
        "  if (i > 10):\n",
        "    break"
      ]
    },
    {
      "cell_type": "code",
      "execution_count": 40,
      "metadata": {
        "id": "h8e3qx4A4wLA",
        "colab": {
          "base_uri": "https://localhost:8080/"
        },
        "outputId": "5f3dc9a4-1d10-4bb4-9d1e-c98db804a345"
      },
      "outputs": [
        {
          "output_type": "execute_result",
          "data": {
            "text/plain": [
              "987"
            ]
          },
          "metadata": {},
          "execution_count": 40
        }
      ],
      "source": [
        "word2id['наполеон']"
      ]
    },
    {
      "cell_type": "code",
      "execution_count": 64,
      "metadata": {
        "id": "GvVPjnQRxnO8"
      },
      "outputs": [],
      "source": [
        "stemmer = SnowballStemmer('russian')\n",
        "\n",
        "def word2vec(word):\n",
        "  word = stemmer.stem(word)\n",
        "  id = word2id[word]\n",
        "  return Embedding_representation[i, :].reshape(1, -1)\n",
        "\n",
        "def iword2vec(vec):\n",
        "    idx = word2id[word]\n",
        "    print(dist_matrix.shape)\n",
        "    print(idx)\n",
        "    dists = dist_matrix[idx]\n",
        "    ind = np.argpartition(dists, k)[:k+1]\n",
        "    ind = ind[np.argsort(dists[ind])][0:]\n",
        "    out = [(i, id2word[i], dists[i]) for i in ind]\n",
        "    return out\n",
        "\n",
        "def euclidean_norm(v):\n",
        "  return distance.euclidean(v, np.zeros(len(v)))\n",
        "\n",
        "def get_nearest(vec, metric_fn = euclidean_norm):\n",
        "  '''print('vec', vec.shape)\n",
        "  print('Embedding_representation shape:', Embedding_representation.shape)'''\n",
        "\n",
        "  arr = Embedding_representation - vec\n",
        "  #print(arr[1952, :].reshape(-1, 1))\n",
        "  dist = np.apply_along_axis(metric_fn, axis = 1,\n",
        "                            arr = arr)\n",
        "  id = np.argsort(dist)\n",
        "  return id"
      ]
    },
    {
      "cell_type": "code",
      "execution_count": 65,
      "metadata": {
        "id": "LrXcFFifpxVw"
      },
      "outputs": [],
      "source": [
        "dist_matrix = get_distance_matrix(Embedding_representation, 'cosine')"
      ]
    },
    {
      "cell_type": "code",
      "execution_count": 83,
      "metadata": {
        "id": "izLxKcqHyiUU",
        "colab": {
          "base_uri": "https://localhost:8080/"
        },
        "outputId": "dbf129be-f0c6-409e-c197-896de9e075e2"
      },
      "outputs": [
        {
          "output_type": "execute_result",
          "data": {
            "text/plain": [
              "389.7429"
            ]
          },
          "metadata": {},
          "execution_count": 83
        }
      ],
      "source": [
        "ns_params = ns.state_dict()\n",
        "Embedding_representation_ns = ns_params['embed.weight'].cpu().numpy()\n",
        "\n",
        "dist_matrix_ns = get_distance_matrix(Embedding_representation_ns, 'cosine')\n",
        "delta = Embedding_representation_ns - Embedding_representation\n",
        "np.linalg.norm(delta, 'fro')"
      ]
    },
    {
      "cell_type": "code",
      "execution_count": 81,
      "metadata": {
        "id": "VJZdzh4g4kxk",
        "colab": {
          "base_uri": "https://localhost:8080/"
        },
        "outputId": "a4206f0d-2705-437c-d00a-4221bda2fccb"
      },
      "outputs": [
        {
          "output_type": "stream",
          "name": "stdout",
          "text": [
            "(3606, 3606)\n",
            "2544\n"
          ]
        },
        {
          "output_type": "execute_result",
          "data": {
            "text/plain": [
              "[(2234, 'шепч', 0.6565570992252798),\n",
              " (439, 'незнаком', 0.7267014811318335),\n",
              " (3384, 'бородк', 0.7356276280210872),\n",
              " (3405, 'функционир', 0.7462394485242351),\n",
              " (428, 'крошечн', 0.7561442958185229),\n",
              " (1701, 'скрыва', 0.757143059031493),\n",
              " (1649, 'пылк', 0.7575273455712536),\n",
              " (3057, 'крик', 0.7584107790557153),\n",
              " (1520, 'ужина', 0.7613826602528287),\n",
              " (561, 'мужчин', 0.7641165588250654),\n",
              " (192, 'увидет', 0.7647477593312597),\n",
              " (1686, 'польз', 0.7665097222626212),\n",
              " (3537, 'тракт', 0.7676431432902353),\n",
              " (2810, 'куд', 0.7688600027276253),\n",
              " (2298, 'сипл', 0.7713177818162588),\n",
              " (1879, 'предугадыва', 0.7721246517513515),\n",
              " (3107, 'затухан', 0.7722105336677025),\n",
              " (1965, 'невидим', 0.772534386682038),\n",
              " (1112, 'невестк', 0.7740243586800273),\n",
              " (2996, 'передник', 0.7767271334453855)]"
            ]
          },
          "metadata": {},
          "execution_count": 81
        }
      ],
      "source": [
        "get_k_similar_words('люб', dist_matrix_ns, k = 20)"
      ]
    },
    {
      "cell_type": "code",
      "execution_count": 45,
      "metadata": {
        "id": "2uPZY1EbiwoI",
        "colab": {
          "base_uri": "https://localhost:8080/"
        },
        "outputId": "1e24b0ef-799d-4a57-db65-73dab0401b55"
      },
      "outputs": [
        {
          "output_type": "stream",
          "name": "stdout",
          "text": [
            "(3606, 3606)\n",
            "10\n"
          ]
        },
        {
          "output_type": "execute_result",
          "data": {
            "text/plain": [
              "[(2292, 'задрожа', 0.7054918945872617),\n",
              " (1607, 'рным', 0.7064741673888624),\n",
              " (2294, 'умилительн', 0.7092665558788421),\n",
              " (1902, 'помн', 0.7130071986369235)]"
            ]
          },
          "metadata": {},
          "execution_count": 45
        }
      ],
      "source": [
        "get_k_similar_words(word, dist_matrix_ns, k = 4)"
      ]
    },
    {
      "cell_type": "code",
      "execution_count": 71,
      "metadata": {
        "id": "-082iRjRlvUw",
        "colab": {
          "base_uri": "https://localhost:8080/",
          "height": 129
        },
        "outputId": "50432221-96ef-4a35-f319-e3cee0c5d03c"
      },
      "outputs": [
        {
          "output_type": "display_data",
          "data": {
            "text/plain": [
              "<Figure size 1400x1400 with 1 Axes>"
            ],
            "image/png": "[encoded data removed]"
          },
          "metadata": {}
        }
      ],
      "source": [
        "# Выведем матрицу расстояний между словами\n",
        "plt.figure(figsize = (14, 14))\n",
        "plt.imshow(delta.T, cmap = 'gray', interpolation='none', norm =  matplotlib.colors.Normalize())\n",
        "plt.show()"
      ]
    }
  ],
  "metadata": {
    "accelerator": "GPU",
    "colab": {
      "provenance": [],
      "gpuType": "T4"
    },
    "kernelspec": {
      "display_name": "Python 3",
      "name": "python3"
    },
    "language_info": {
      "name": "python"
    }
  },
  "nbformat": 4,
  "nbformat_minor": 0
}
